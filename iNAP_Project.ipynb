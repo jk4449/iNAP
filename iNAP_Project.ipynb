{
  "cells": [
    {
      "cell_type": "markdown",
      "source": [
        "**iNAP**\n",
        "\n",
        "# Load Training Data"
      ],
      "metadata": {
        "id": "PwsnfAKFenBh"
      }
    },
    {
      "cell_type": "code",
      "execution_count": 1,
      "metadata": {
        "id": "EdQA0scDp8bd",
        "colab": {
          "base_uri": "https://localhost:8080/"
        },
        "outputId": "dca75d4f-8e03-4a52-cd75-262837639c49"
      },
      "outputs": [
        {
          "output_type": "stream",
          "name": "stdout",
          "text": [
            "Mounted at /content/drive\n"
          ]
        }
      ],
      "source": [
        "from google.colab import drive\n",
        "\n",
        "# Set up directory to get the data files from\n",
        "drive.mount('/content/drive')\n",
        "datadir = \"/content/drive/MyDrive/ML4FG_project/data/\""
      ]
    },
    {
      "cell_type": "code",
      "execution_count": 2,
      "metadata": {
        "id": "Xvn2meF2qEHO"
      },
      "outputs": [],
      "source": [
        "# Import relevant libraries\n",
        "import numpy as np\n",
        "import pandas as pd\n",
        "import tensorflow as tf\n",
        "import tensorflow.keras as keras\n",
        "from tensorflow.keras.preprocessing import sequence as sequence"
      ]
    },
    {
      "cell_type": "code",
      "execution_count": 38,
      "metadata": {
        "id": "2McQo58bqkjS"
      },
      "outputs": [],
      "source": [
        "# Load train, validation and test data\n",
        "df_train= pd.read_csv(datadir + \"train_data.fasta\", usecols=range(3), names=(\"ID\",\"sequence\",\"category\"))\n",
        "df_test = pd.read_csv(datadir + \"test_data.fasta\", usecols=range(3), names=(\"ID\",\"sequence\",\"category\"))\n",
        "df_val = pd.read_csv(datadir + \"validation_data.fasta\", usecols=range(3), names=(\"ID\",\"sequence\",\"category\"))"
      ]
    },
    {
      "cell_type": "code",
      "execution_count": 39,
      "metadata": {
        "id": "LEyhowvkM0wr"
      },
      "outputs": [],
      "source": [
        "# Separate input data\n",
        "x_train = df_train[\"sequence\"]\n",
        "x_val = df_val[\"sequence\"]\n",
        "x_test = df_test[\"sequence\"]"
      ]
    },
    {
      "cell_type": "markdown",
      "source": [
        "# Determine Truncation/Padding Length"
      ],
      "metadata": {
        "id": "Kxe9Qlmnh4VO"
      }
    },
    {
      "cell_type": "code",
      "execution_count": 40,
      "metadata": {
        "id": "-5ntJy0ag2mC",
        "colab": {
          "base_uri": "https://localhost:8080/",
          "height": 472
        },
        "outputId": "fa7c21b7-1770-4c8c-87b1-f8f6360d7dd3"
      },
      "outputs": [
        {
          "output_type": "display_data",
          "data": {
            "text/plain": [
              "<Figure size 640x480 with 1 Axes>"
            ],
            "image/png": "[encoded data removed]"
          },
          "metadata": {}
        }
      ],
      "source": [
        "# See how the cumulative histogram of the input data length looks like\n",
        "import matplotlib.pyplot as plt\n",
        "train_seq_len = [len(x_train[i]) for i in range(len(x_train))]\n",
        "\n",
        "plt.hist(bins=30, range=[0, 5500], cumulative=True, x=train_seq_len)\n",
        "plt.xlabel(\"Sequence Length\")\n",
        "plt.ylabel(\"Number of Inputs longer than given Sequence Length\")\n",
        "plt.title(\"Cumulatiive Histogram\")\n",
        "plt.show()"
      ]
    },
    {
      "cell_type": "code",
      "source": [
        "# Select sequence length to pad/truncate the input sequence based on previous results\n",
        "sequence_length = 256"
      ],
      "metadata": {
        "id": "Octom_OAhI1T"
      },
      "execution_count": 41,
      "outputs": []
    },
    {
      "cell_type": "code",
      "execution_count": 42,
      "metadata": {
        "id": "2ACiJov0NSMR",
        "colab": {
          "base_uri": "https://localhost:8080/"
        },
        "outputId": "4250c7aa-f12f-4722-ec1a-54f14c2b1432"
      },
      "outputs": [
        {
          "output_type": "stream",
          "name": "stdout",
          "text": [
            "Percentage of input with length \n",
            "       over 256: 0.4492541678853466\n",
            "       under 256: 0.5507458321146534\n"
          ]
        }
      ],
      "source": [
        "# See how many input sequences are under or over that cutoff length\n",
        "cutoff=sequence_length\n",
        "\n",
        "num_input_over = 0\n",
        "num_input_under = 0\n",
        "\n",
        "for input_len in train_seq_len:\n",
        "  if input_len > cutoff:\n",
        "    num_input_over += 1\n",
        "  else:\n",
        "    num_input_under += 1\n",
        "print(\"Percentage of input with length \")\n",
        "print(\"       over \" + str(cutoff) + \": \" + str(num_input_over/len(x_train)))\n",
        "print(\"       under \" + str(cutoff) + \": \" + str(num_input_under/len(x_train)))"
      ]
    },
    {
      "cell_type": "markdown",
      "metadata": {
        "id": "4tVpIGG6DcIn"
      },
      "source": [
        "# Encode input using encoding function code from ProtBERT"
      ]
    },
    {
      "cell_type": "code",
      "execution_count": 43,
      "metadata": {
        "id": "bd7_BKS1DbTs"
      },
      "outputs": [],
      "source": [
        "ALL_AAS = 'ALMDSNFPHUERYWTQGCVKI'\n",
        "ADDITIONAL_TOKENS = ['<OTHER>', '<START>', '<END>', '<PAD>']\n",
        "\n",
        "# Each sequence is added <START> and <END> tokens\n",
        "ADDED_TOKENS_PER_SEQ = 2\n",
        "\n",
        "n_aas = len(ALL_AAS)\n",
        "aa_to_token_index = {aa: i for i, aa in enumerate(ALL_AAS)}\n",
        "additional_token_to_index = {token: i + n_aas for i, token in enumerate(ADDITIONAL_TOKENS)}\n",
        "token_to_index = {**aa_to_token_index, **additional_token_to_index}\n",
        "index_to_token = {index: token for token, index in token_to_index.items()}\n",
        "n_tokens = len(token_to_index)\n",
        "\n",
        "# function that takes in sequence input and returns tokenized input representation\n",
        "def tokenize_seq(seq):\n",
        "    other_token_index = additional_token_to_index['<OTHER>']\n",
        "    return [additional_token_to_index['<START>']] + [aa_to_token_index.get(aa, other_token_index) for aa in parse_seq(seq)] + \\\n",
        "            [additional_token_to_index['<END>']]\n",
        "\n",
        "# function that parses sequence input\n",
        "def parse_seq(seq):\n",
        "    if isinstance(seq, str):\n",
        "        return seq\n",
        "    elif isinstance(seq, bytes):\n",
        "        return seq.decode('utf8')\n",
        "    else:\n",
        "        raise TypeError('Unexpected sequence type: %s' % type(seq))"
      ]
    },
    {
      "cell_type": "markdown",
      "source": [
        "# Tokenize and encode dataset"
      ],
      "metadata": {
        "id": "SnMMspXQkyrN"
      }
    },
    {
      "cell_type": "code",
      "execution_count": 44,
      "metadata": {
        "id": "YBWYKPoS3jxi"
      },
      "outputs": [],
      "source": [
        "# function to tokenize dataset\n",
        "def tokenize_set(data):\n",
        "  encode_list = []\n",
        "  for row in data:\n",
        "    encode_list.append(tokenize_seq(row))\n",
        "  return encode_list\n",
        "\n",
        "# Encode dataset\n",
        "train_encode = tokenize_set(x_train)\n",
        "val_encode = tokenize_set(x_val)\n",
        "test_encode = tokenize_set(x_test)"
      ]
    },
    {
      "cell_type": "code",
      "execution_count": 45,
      "metadata": {
        "id": "ombIj4o03wZo",
        "colab": {
          "base_uri": "https://localhost:8080/"
        },
        "outputId": "ce265ab5-3992-45dd-a2e3-a00afcc4e6e1"
      },
      "outputs": [
        {
          "output_type": "stream",
          "name": "stdout",
          "text": [
            "(3419, 256) (427, 256) (426, 256)\n"
          ]
        }
      ],
      "source": [
        "# Apply padding/truncation to encoded data\n",
        "padding_token_index = additional_token_to_index['<PAD>']\n",
        "train_pad = sequence.pad_sequences(train_encode, maxlen=sequence_length, value=padding_token_index, padding='post', truncating='post')\n",
        "val_pad = sequence.pad_sequences(val_encode, maxlen=sequence_length, value=padding_token_index, padding='post', truncating='post')\n",
        "test_pad = sequence.pad_sequences(test_encode, maxlen=sequence_length, value=padding_token_index, padding='post', truncating='post')\n",
        "\n",
        "print(train_pad.shape, val_pad.shape, test_pad.shape)"
      ]
    },
    {
      "cell_type": "code",
      "execution_count": 46,
      "metadata": {
        "id": "cMEaY5T14S0K",
        "colab": {
          "base_uri": "https://localhost:8080/"
        },
        "outputId": "e7f30dd8-bcde-46bc-d419-ba61e55557f0"
      },
      "outputs": [
        {
          "output_type": "stream",
          "name": "stdout",
          "text": [
            "[[1. 0. 0. 0.]\n",
            " [1. 0. 0. 0.]\n",
            " [1. 0. 0. 0.]\n",
            " ...\n",
            " [0. 0. 0. 1.]\n",
            " [0. 0. 0. 1.]\n",
            " [0. 0. 0. 1.]]\n",
            "(3419, 4)\n"
          ]
        }
      ],
      "source": [
        "from sklearn.preprocessing import OneHotEncoder\n",
        "\n",
        "# Create one-hot encoding for the output label\n",
        "onehot_encoder = OneHotEncoder(handle_unknown='ignore')\n",
        "train_y = onehot_encoder.fit_transform(df_train[['category']]).toarray()\n",
        "val_y = onehot_encoder.fit_transform(df_val[['category']]).toarray()\n",
        "test_y = onehot_encoder.fit_transform(df_test[['category']]).toarray()\n",
        "\n",
        "print(train_y)\n",
        "print(train_y.shape)"
      ]
    },
    {
      "cell_type": "markdown",
      "source": [
        "# Build the Bi-LSTM CNN Model"
      ],
      "metadata": {
        "id": "LXtxlKDEk3Ys"
      }
    },
    {
      "cell_type": "code",
      "execution_count": 47,
      "metadata": {
        "id": "U_PHtYnvsz2e"
      },
      "outputs": [],
      "source": [
        "# Import necessary libraries to build the model using Keras\n",
        "\n",
        "from tensorflow.keras.models import Sequential, load_model\n",
        "from tensorflow.keras.layers import Dense\n",
        "from tensorflow.keras.layers import LSTM\n",
        "from tensorflow.keras.layers import Dropout\n",
        "from tensorflow.keras.layers import Conv1D\n",
        "from tensorflow.keras.layers import MaxPooling1D\n",
        "from tensorflow.keras.layers import Embedding\n",
        "from tensorflow.keras.layers import Bidirectional\n",
        "from tensorflow.keras.callbacks import ModelCheckpoint"
      ]
    },
    {
      "cell_type": "code",
      "execution_count": 32,
      "metadata": {
        "id": "OMikdSNG5xOa",
        "colab": {
          "base_uri": "https://localhost:8080/"
        },
        "outputId": "c660ac11-9879-4dc3-db7d-43d208012b3f"
      },
      "outputs": [
        {
          "output_type": "stream",
          "name": "stderr",
          "text": [
            "WARNING:tensorflow:Layer lstm will not use cuDNN kernels since it doesn't meet the criteria. It will use a generic GPU kernel as fallback when running on GPU.\n",
            "WARNING:tensorflow:Layer lstm will not use cuDNN kernels since it doesn't meet the criteria. It will use a generic GPU kernel as fallback when running on GPU.\n",
            "WARNING:tensorflow:Layer lstm will not use cuDNN kernels since it doesn't meet the criteria. It will use a generic GPU kernel as fallback when running on GPU.\n"
          ]
        },
        {
          "output_type": "stream",
          "name": "stdout",
          "text": [
            "Model: \"sequential\"\n",
            "_________________________________________________________________\n",
            " Layer (type)                Output Shape              Param #   \n",
            "=================================================================\n",
            " embedding (Embedding)       (None, 256, 100)          2400      \n",
            "                                                                 \n",
            " dropout (Dropout)           (None, 256, 100)          0         \n",
            "                                                                 \n",
            " conv1d (Conv1D)             (None, 256, 100)          100100    \n",
            "                                                                 \n",
            " conv1d_1 (Conv1D)           (None, 256, 100)          50100     \n",
            "                                                                 \n",
            " max_pooling1d (MaxPooling1  (None, 128, 100)          0         \n",
            " D)                                                              \n",
            "                                                                 \n",
            " dropout_1 (Dropout)         (None, 128, 100)          0         \n",
            "                                                                 \n",
            " bidirectional (Bidirection  (None, 200)               160800    \n",
            " al)                                                             \n",
            "                                                                 \n",
            " dense (Dense)               (None, 4)                 804       \n",
            "                                                                 \n",
            "=================================================================\n",
            "Total params: 314204 (1.20 MB)\n",
            "Trainable params: 314204 (1.20 MB)\n",
            "Non-trainable params: 0 (0.00 Byte)\n",
            "_________________________________________________________________\n"
          ]
        }
      ],
      "source": [
        "# There are 4 classes, representing DNA-binding, RNA-binding, DRNA-binding and None\n",
        "num_of_classes = 4\n",
        "\n",
        "# 24 words in vocab because 20 amino acids + 4 additional tokens (start, end, pad, other)\n",
        "NUM_WORDS=24\n",
        "\n",
        "dropout = 0.5\n",
        "embedding_vector_length = 100\n",
        "\n",
        "model = Sequential()\n",
        "\n",
        "# Embedding Layer\n",
        "model.add(Embedding(NUM_WORDS, embedding_vector_length, input_length=sequence_length))\n",
        "model.add(Dropout(dropout))\n",
        "\n",
        "# Convolutional Layer\n",
        "model.add(Conv1D(filters=100, kernel_size=10, padding='same', activation='relu'))\n",
        "model.add(Conv1D(filters=100, kernel_size=5, padding='same', activation='relu'))\n",
        "model.add(MaxPooling1D(pool_size=2))\n",
        "\n",
        "model.add(Dropout(dropout))\n",
        "\n",
        "# Bi-LSTM Layer\n",
        "model.add(Bidirectional(LSTM(100, return_sequences=False, recurrent_dropout=0.5)))\n",
        "\n",
        "model.add(Dense(num_of_classes, activation='softmax'))\n",
        "\n",
        "# Use categorical crossentrophy loss\n",
        "model.compile(loss='categorical_crossentropy', optimizer='adam', metrics=['accuracy', tf.keras.metrics.AUC(multi_label=False)])\n",
        "\n",
        "model.summary()"
      ]
    },
    {
      "cell_type": "code",
      "execution_count": 48,
      "metadata": {
        "id": "1fPiP9FW6Djw"
      },
      "outputs": [],
      "source": [
        "callback = tf.keras.callbacks.EarlyStopping(monitor='loss', patience=10)\n",
        "# define filepath where the model will be saved\n",
        "filepath = \"model.h5\"\n",
        "# define the checkpoint\n",
        "checkpoint = ModelCheckpoint(filepath, monitor='loss', verbose=1, save_best_only=True, mode='min')\n",
        "callbacks_list = [checkpoint]"
      ]
    },
    {
      "cell_type": "markdown",
      "source": [
        "# Train Model"
      ],
      "metadata": {
        "id": "uLoyT_Tmk-AO"
      }
    },
    {
      "cell_type": "code",
      "source": [
        "hist = model.fit(train_pad, train_y, validation_data=(val_pad, val_y), epochs=50, batch_size=256, callbacks=callbacks_list)"
      ],
      "metadata": {
        "id": "Pv_m8DMqjjT9"
      },
      "execution_count": null,
      "outputs": []
    },
    {
      "cell_type": "code",
      "execution_count": null,
      "metadata": {
        "id": "Bvelt0tM5NR4"
      },
      "outputs": [],
      "source": [
        "#Run if 30 epoch was not enough.\n",
        "model = load_model(filepath)\n",
        "new_hist = model.fit(train_pad, train_y, validation_data=(val_pad, val_y), epochs=20, batch_size=256, callbacks=callbacks_list)\n",
        "hist.history['val_accuracy'] += new_hist.history['val_accuracy']\n",
        "hist.history['accuracy'] += new_hist.history['accuracy']"
      ]
    },
    {
      "cell_type": "code",
      "execution_count": null,
      "metadata": {
        "id": "Jxj_OpSMEGXT"
      },
      "outputs": [],
      "source": [
        "#Run if 50 epoch was not enough.\n",
        "model = load_model(filepath)\n",
        "new_hist = model.fit(train_pad, train_y, validation_data=(val_pad, val_y), epochs=20, batch_size=256, callbacks=callbacks_list)\n",
        "hist.history['val_accuracy'] += new_hist.history['val_accuracy']\n",
        "hist.history['accuracy'] += new_hist.history['accuracy']"
      ]
    },
    {
      "cell_type": "markdown",
      "source": [
        "# Print Results and Evaluate Model"
      ],
      "metadata": {
        "id": "jxMOhTfelBJW"
      }
    },
    {
      "cell_type": "code",
      "execution_count": null,
      "metadata": {
        "id": "oTLyiytPT1kQ"
      },
      "outputs": [],
      "source": [
        "# Print Results\n",
        "import matplotlib.pyplot as plt\n",
        "plt.plot(hist.history['accuracy'])\n",
        "plt.plot(hist.history['val_accuracy'])\n",
        "\n",
        "plt.title('model accuracy')\n",
        "plt.ylabel('accuracy')\n",
        "plt.xlabel('epoch')\n",
        "plt.legend(['train', 'validation'], loc='upper left')\n",
        "plt.show()"
      ]
    },
    {
      "cell_type": "code",
      "execution_count": null,
      "metadata": {
        "id": "hjv4SZkWR0Td"
      },
      "outputs": [],
      "source": [
        "# Evaluate Model Performance\n",
        "from sklearn.metrics import classification_report\n",
        "import sklearn.metrics as metrics\n",
        "\n",
        "model.evaluate(test_pad, test_y)\n",
        "y_pred = model.predict(test_pad)\n",
        "auc = metrics.accuracy_score(test_y, y_pred)\n",
        "print(auc)"
      ]
    }
  ],
  "metadata": {
    "accelerator": "GPU",
    "colab": {
      "provenance": []
    },
    "gpuClass": "standard",
    "kernelspec": {
      "display_name": "Python 3",
      "name": "python3"
    },
    "language_info": {
      "name": "python"
    }
  },
  "nbformat": 4,
  "nbformat_minor": 0
}